{
 "cells": [
  {
   "cell_type": "code",
   "execution_count": null,
   "metadata": {
    "collapsed": true
   },
   "outputs": [],
   "source": [
    "# accesses: Position.objects.values_list('company')\n",
    "# returns: list of lists sorted descending, formatted in:\n",
    "# [[company_1, count_max][company_2, count_2][...]...[company_n, count_min]]\n",
    "def get_adds_count_per_company():\n",
    "    from adds.models import Position\n",
    "    \n",
    "    \n",
    "    all_companies = Position.objects.values_list('company')\n",
    "    \n",
    "    # gets adds_count_per_company_dict unsorted\n",
    "    d = {}    \n",
    "    for item in all_companies:\n",
    "        if item[0] not in d.keys():\n",
    "            d[item[0]] = 0\n",
    "        else:\n",
    "            d[item[0]] += 1\n",
    "\n",
    "    # converts to list of lists sorted descending\n",
    "    adds_count_per_company_list = []\n",
    "\n",
    "    for w in sorted(d, key=d.get, reverse=True):\n",
    "        adds_count_per_company_list.append([w, d[w]])\n",
    "\n",
    "    # print(adds_count_per_company_list[:10])\n",
    "    return adds_count_per_company_list"
   ]
  },
  {
   "cell_type": "code",
   "execution_count": 115,
   "metadata": {
    "collapsed": true
   },
   "outputs": [],
   "source": [
    "# Draws horizontal graph from input data\n",
    "# input: \n",
    "#  -list of lists, format [['MAXIMA', 175], ['Danske Bank Lithuania', 75],...]\n",
    "#  -output file name\n",
    "# output: saves pic in current dir\n",
    "def draw_barh(counts, output_name):\n",
    "    import matplotlib.pyplot as plt; plt.rcdefaults()\n",
    "    import numpy as np\n",
    "    import matplotlib.pyplot as plt\n",
    "\n",
    "    \n",
    "    companies = [i[0] for i in counts][:10]\n",
    "    y_pos = np.arange(len(companies))[::-1]\n",
    "    add_count = [i[1] for i in counts][:10]\n",
    "\n",
    "    # barh(bottom, width, height=0.8, left=None, hold=None, **kwargs)\n",
    "    plt.barh(y_pos, add_count, align='center', alpha=0.4, color = 'blue')\n",
    "    plt.yticks(y_pos, companies)\n",
    "    for i, v in enumerate(add_count[::-1]):\n",
    "        plt.text(v+3, i, str(v), color = 'blue', alpha=0.6, fontweight='bold')\n",
    "\n",
    "    plt.xlabel('Darbo skelbimų skaičius')\n",
    "    plt.title('Daugiausiai skelbimų publikavo')\n",
    "\n",
    "    # plt.show()\n",
    "    plt.savefig(os.path.join(output_name), dpi=300, format='png', bbox_inches='tight') # use format='svg' or 'pdf' for vectorial pictures\n",
    "\n",
    "    return None"
   ]
  },
  {
   "cell_type": "code",
   "execution_count": 116,
   "metadata": {},
   "outputs": [
    {
     "name": "stdout",
     "output_type": "stream",
     "text": [
      "[['MAXIMA', 175], ['Danske Bank Lithuania', 75], ['People Link, UAB', 72], ['Barclays', 54], ['Alliance for Recruitment', 47], ['Girteka Logistics', 40], ['Strategic Staffing Solutions International', 40], ['HR factory klientas', 34], ['Telia Lietuva, AB', 28], ['Rimi Lietuva UAB', 27]]\n"
     ]
    }
   ],
   "source": [
    "# django setup to liaise with sqlite\n",
    "import website_ads.settings\n",
    "import os\n",
    "import django\n",
    "\n",
    "\n",
    "DJANGO_SETTINGS_MODULE=website_ads.settings\n",
    "os.environ.setdefault(\"DJANGO_SETTINGS_MODULE\", \"website_ads.settings\")\n",
    "\n",
    "django.setup()\n",
    "counts = get_adds_count_per_company()\n",
    "print(counts[:10])\n",
    "\n",
    "# draws and saves chart\n",
    "draw_barh(counts, 'adds_per_company.png')"
   ]
  },
  {
   "cell_type": "code",
   "execution_count": null,
   "metadata": {},
   "outputs": [],
   "source": []
  },
  {
   "cell_type": "code",
   "execution_count": null,
   "metadata": {},
   "outputs": [],
   "source": []
  },
  {
   "cell_type": "code",
   "execution_count": null,
   "metadata": {},
   "outputs": [],
   "source": []
  },
  {
   "cell_type": "code",
   "execution_count": null,
   "metadata": {},
   "outputs": [],
   "source": []
  },
  {
   "cell_type": "code",
   "execution_count": null,
   "metadata": {},
   "outputs": [],
   "source": []
  },
  {
   "cell_type": "code",
   "execution_count": null,
   "metadata": {},
   "outputs": [],
   "source": []
  },
  {
   "cell_type": "code",
   "execution_count": null,
   "metadata": {},
   "outputs": [],
   "source": [
    "import os\n",
    "import numpy as np\n",
    "import matplotlib.pyplot as plt\n",
    "\n",
    "x = [u'INFO', u'CUISINE', u'TYPE_OF_PLACE', u'DRINK', u'PLACE', u'MEAL_TIME', u'DISH', u'NEIGHBOURHOOD']\n",
    "y = [160, 167, 137, 18, 120, 36, 155, 130]\n",
    "\n",
    "fig, ax = plt.subplots()    \n",
    "width = 0.75 # the width of the bars \n",
    "ind = np.arange(len(y))  # the x locations for the groups\n",
    "ax.barh(ind, y, width, align= 'center', color=\"blue\", alpha = 0.4)\n",
    "\n",
    "for i, v in enumerate(y):\n",
    "    ax.text(v + 3, i - .05, str(v), color = 'blue', alpha=0.4, fontweight='bold')\n",
    "\n",
    "ax.set_yticks(ind+width/2)\n",
    "ax.set_yticklabels(x, minor=False)\n",
    "plt.title('title')\n",
    "plt.xlabel('x')\n",
    "plt.ylabel('y')      \n",
    "plt.show()\n",
    "# plt.savefig(os.path.join('test.png'), dpi=300, format='png', bbox_inches='tight') # use format='svg' or 'pdf' for vectorial pictures"
   ]
  },
  {
   "cell_type": "code",
   "execution_count": 111,
   "metadata": {},
   "outputs": [
    {
     "name": "stdout",
     "output_type": "stream",
     "text": [
      "<module 'posixpath' from '/Volumes/Malena/tv13/anaconda/lib/python3.6/posixpath.py'>\n",
      "test.png\n"
     ]
    }
   ],
   "source": [
    "import os\n",
    "print(os.path)\n",
    "print(os.path.join('test.png'))"
   ]
  },
  {
   "cell_type": "code",
   "execution_count": null,
   "metadata": {},
   "outputs": [],
   "source": []
  },
  {
   "cell_type": "code",
   "execution_count": null,
   "metadata": {},
   "outputs": [],
   "source": []
  },
  {
   "cell_type": "code",
   "execution_count": null,
   "metadata": {
    "collapsed": true
   },
   "outputs": [],
   "source": []
  }
 ],
 "metadata": {
  "kernelspec": {
   "display_name": "Python 3",
   "language": "python",
   "name": "python3"
  },
  "language_info": {
   "codemirror_mode": {
    "name": "ipython",
    "version": 3
   },
   "file_extension": ".py",
   "mimetype": "text/x-python",
   "name": "python",
   "nbconvert_exporter": "python",
   "pygments_lexer": "ipython3",
   "version": "3.6.1"
  }
 },
 "nbformat": 4,
 "nbformat_minor": 2
}
