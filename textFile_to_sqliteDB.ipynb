{
 "cells": [
  {
   "cell_type": "code",
   "execution_count": null,
   "metadata": {
    "collapsed": true
   },
   "outputs": [],
   "source": [
    "# reads ALL JOB DATA from text to list of dictionaries\n",
    "# input: name of text file\n",
    "# returns: list of dictionaries\n",
    "def read_textfile(textfile_name):\n",
    "    with open(textfile_name, 'r') as inFile:\n",
    "        data = [line.strip().split('\\t') for line in inFile if line.strip()]\n",
    "\n",
    "    jobDataList = []\n",
    "\n",
    "    for entry in data:\n",
    "        entryData = {\n",
    "                \"companyName\" : entry[0],\n",
    "                \"jobCity\" : entry[1],            \n",
    "                \"jobTitle\" : entry[2], \n",
    "                \"jobViewCount\" : entry[3],\n",
    "                \"jobDateDeadline\" : entry[4],\n",
    "                \"jobDatePublished\" : entry[5],\n",
    "                \"jobUrl\" : entry[6],\n",
    "        }\n",
    "        jobDataList.append(entryData)\n",
    "    return jobDataList\n",
    "\n",
    "\n",
    "# input: list of dictionaries (jobDataList)\n",
    "# returns: list of unique company names\n",
    "def get_unique_companies(jobDataList):\n",
    "    uniqueCompanies = []\n",
    "    for item in jobDataList:\n",
    "        if item['companyName'] not in uniqueCompanies:\n",
    "            uniqueCompanies.append(item['companyName'])\n",
    "    return uniqueCompanies"
   ]
  },
  {
   "cell_type": "code",
   "execution_count": null,
   "metadata": {},
   "outputs": [],
   "source": [
    "# PROGRAM: records jobCity, companyName, jobTitle and jobUrl to db\n",
    "import sqlite3\n",
    "\n",
    "print(\"reading text file\")\n",
    "jobDataList = read_textfile('job_ads_8_16.txt')\n",
    "print(\"total entries: \", len(jobDataList))\n",
    "\n",
    "conn = sqlite3.connect('db.sqlite3')\n",
    "c = conn.cursor()\n",
    "\n",
    "# do stuff with db\n",
    "for job in jobDataList:\n",
    "    c.execute('INSERT INTO adds_position (address, company, title, url) VALUES(?, ?, ?, ?);', \n",
    "              (job['jobCity'], job['companyName'], job['jobTitle'], job['jobUrl']))\n",
    "    \n",
    "conn.commit()\n",
    "print(\"export to db successful\")\n",
    "c.close()\n",
    "conn.close()"
   ]
  },
  {
   "cell_type": "code",
   "execution_count": null,
   "metadata": {},
   "outputs": [],
   "source": [
    "jobDataList = read_textfile('job_ads_8_16.txt')\n",
    "jobDataList[:2]"
   ]
  },
  {
   "cell_type": "code",
   "execution_count": null,
   "metadata": {},
   "outputs": [],
   "source": [
    "company = companyList[0]\n",
    "print(company)\n",
    "c.execute('INSERT INTO adds_company (name) VALUES(?);', (company,))\n",
    "conn.commit()"
   ]
  },
  {
   "cell_type": "code",
   "execution_count": null,
   "metadata": {
    "collapsed": true
   },
   "outputs": [],
   "source": []
  },
  {
   "cell_type": "code",
   "execution_count": null,
   "metadata": {
    "collapsed": true
   },
   "outputs": [],
   "source": [
    "\n"
   ]
  },
  {
   "cell_type": "code",
   "execution_count": null,
   "metadata": {},
   "outputs": [],
   "source": [
    "import requests\n",
    "from bs4 import BeautifulSoup\n",
    "\n",
    "url = 'http://www.cvonline.lt/darbo-skelbimai/visi?page=0'\n",
    "response = requests.get(url)\n",
    "print(response.status_code)"
   ]
  },
  {
   "cell_type": "markdown",
   "metadata": {},
   "source": [
    "soup = BeautifulSoup(response.content, 'lxml')\n",
    "\n",
    "soup.prettify()"
   ]
  },
  {
   "cell_type": "code",
   "execution_count": null,
   "metadata": {},
   "outputs": [],
   "source": [
    "soup = BeautifulSoup(response.content, 'lxml')\n",
    "\n",
    "soup.prettify()"
   ]
  },
  {
   "cell_type": "code",
   "execution_count": null,
   "metadata": {
    "collapsed": true
   },
   "outputs": [],
   "source": []
  }
 ],
 "metadata": {
  "kernelspec": {
   "display_name": "Python 3",
   "language": "python",
   "name": "python3"
  },
  "language_info": {
   "codemirror_mode": {
    "name": "ipython",
    "version": 3
   },
   "file_extension": ".py",
   "mimetype": "text/x-python",
   "name": "python",
   "nbconvert_exporter": "python",
   "pygments_lexer": "ipython3",
   "version": "3.6.1"
  }
 },
 "nbformat": 4,
 "nbformat_minor": 2
}
